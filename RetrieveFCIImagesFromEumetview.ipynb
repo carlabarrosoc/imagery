{
 "cells": [
  {
   "cell_type": "markdown",
   "id": "conscious-blond",
   "metadata": {},
   "source": [
    "<img src='logos/EUMETSAT_Logo_WhiteonBlue.png' alt='logo EUMETSAT' align='center' width='30%'></img>"
   ]
  },
  {
   "cell_type": "markdown",
   "id": "educated-packaging",
   "metadata": {},
   "source": [
    "# \n",
    "# Retrieve images from EUMETView "
   ]
  },
  {
   "cell_type": "markdown",
   "id": "conditional-pollution",
   "metadata": {},
   "source": [
    "**[EUMETView](https://view.eumetsat.int/productviewer?v=default)** is an Online Map Service that provides visualisations of EUMETSAT product through a customisable web user interface and an enhanced set of Open Geospatial Consortium (OGC) standard API. EUMETView makes it possible to create and save maps using the user interface, or integrates with user's personal service, via the API.\n"
   ]
  },
  {
   "cell_type": "markdown",
   "id": "incomplete-prophet",
   "metadata": {},
   "source": [
    "\n",
    "<div class=\"alert alert-block alert-info\">\n",
    "<b>NOTE:</b> To successfully run this notebook please follow the instructions, namely those within the blue cells like this one, so that you know what you need to change. For the other cells you should only hit the play button, to run them.</div>"
   ]
  },
  {
   "cell_type": "markdown",
   "id": "spanish-peripheral",
   "metadata": {},
   "source": [
    "<hr>"
   ]
  },
  {
   "cell_type": "markdown",
   "id": "recent-danish",
   "metadata": {},
   "source": [
    "#### Install and load required libraries"
   ]
  },
  {
   "cell_type": "code",
   "execution_count": 1,
   "id": "divine-evidence",
   "metadata": {},
   "outputs": [
    {
     "name": "stdout",
     "output_type": "stream",
     "text": [
      "Collecting owslib\n",
      "  Downloading owslib-0.34.1-py3-none-any.whl.metadata (6.9 kB)\n",
      "Collecting lxml (from owslib)\n",
      "  Using cached lxml-5.4.0-cp311-cp311-manylinux_2_28_x86_64.whl.metadata (3.5 kB)\n",
      "Requirement already satisfied: python-dateutil in /opt/conda/lib/python3.11/site-packages (from owslib) (2.9.0)\n",
      "Requirement already satisfied: pyyaml in /opt/conda/lib/python3.11/site-packages (from owslib) (6.0.2)\n",
      "Requirement already satisfied: requests in /opt/conda/lib/python3.11/site-packages (from owslib) (2.32.3)\n",
      "Requirement already satisfied: six>=1.5 in /opt/conda/lib/python3.11/site-packages (from python-dateutil->owslib) (1.16.0)\n",
      "Requirement already satisfied: charset-normalizer<4,>=2 in /opt/conda/lib/python3.11/site-packages (from requests->owslib) (3.3.2)\n",
      "Requirement already satisfied: idna<4,>=2.5 in /opt/conda/lib/python3.11/site-packages (from requests->owslib) (3.8)\n",
      "Requirement already satisfied: urllib3<3,>=1.21.1 in /opt/conda/lib/python3.11/site-packages (from requests->owslib) (2.2.2)\n",
      "Requirement already satisfied: certifi>=2017.4.17 in /opt/conda/lib/python3.11/site-packages (from requests->owslib) (2024.12.14)\n",
      "Downloading owslib-0.34.1-py3-none-any.whl (240 kB)\n",
      "Using cached lxml-5.4.0-cp311-cp311-manylinux_2_28_x86_64.whl (4.9 MB)\n",
      "Installing collected packages: lxml, owslib\n",
      "Successfully installed lxml-5.4.0 owslib-0.34.1\n"
     ]
    }
   ],
   "source": [
    "!pip install owslib"
   ]
  },
  {
   "cell_type": "code",
   "execution_count": 2,
   "id": "northern-opera",
   "metadata": {},
   "outputs": [],
   "source": [
    "import owslib\n",
    "import os\n",
    "from datetime import datetime, timedelta\n",
    "import glob#\n",
    "import zipfile"
   ]
  },
  {
   "cell_type": "markdown",
   "id": "comprehensive-language",
   "metadata": {},
   "source": [
    "<div class=\"alert alert-block alert-info\">\n",
    "<b>Define the outupt folder (where the downloaded images will be saved).</div>"
   ]
  },
  {
   "cell_type": "code",
   "execution_count": 3,
   "id": "hundred-christian",
   "metadata": {},
   "outputs": [],
   "source": [
    "Service='mtg_fd'\n"
   ]
  },
  {
   "cell_type": "markdown",
   "id": "stable-overview",
   "metadata": {},
   "source": [
    "<div class=\"alert alert-block alert-info\">\n",
    "<b>Define one Product by uncommenting the correct line in the cell below.</div>"
   ]
  },
  {
   "cell_type": "code",
   "execution_count": 4,
   "id": "acoustic-worker",
   "metadata": {},
   "outputs": [],
   "source": [
    "#product_name='rgb_truecolour'\n",
    "#product_name='rgb_cloudphase'\n",
    "#product_name='rgb_dust'\n",
    "#product_name='rgb_geocolour'\n",
    "#product_name='li_afa'\n",
    "product_name='vis06_hrfi'\n",
    "#product_name='ir105_hrfi'\n",
    "#product_name='rgb_fog'\n",
    "#product_name='rgb_cloudtype'\n",
    "\n"
   ]
  },
  {
   "cell_type": "code",
   "execution_count": 5,
   "id": "instant-language",
   "metadata": {},
   "outputs": [],
   "source": [
    "output_folder = f\"EUMETVIEW_IMAGERY/{product_name}/\"\n",
    "os.makedirs(output_folder, exist_ok=True)  # avoid error if the directory already exists\n",
    "\n"
   ]
  },
  {
   "cell_type": "code",
   "execution_count": 6,
   "id": "valid-singer",
   "metadata": {},
   "outputs": [],
   "source": [
    "#target_layer = Service+':'+product_name+',backgrounds:ne_10m_coastline'+',backgrounds:ne_boundary_lines_land'  \n",
    "target_layer = Service+':'+product_name+',backgrounds:ne_10m_coastline'\n"
   ]
  },
  {
   "cell_type": "markdown",
   "id": "unlike-pharmaceutical",
   "metadata": {},
   "source": [
    "#### Select a Geographical Area"
   ]
  },
  {
   "cell_type": "markdown",
   "id": "simplified-gabriel",
   "metadata": {},
   "source": [
    "\n",
    "<div class=\"alert alert-block alert-info\">\n",
    "<b>In the next cell you can change select your Area Of Interest by entering iths geographical limits. Please also give a name to your region by editing the variable RegionName.\n",
    "<br>\n",
    "    \n",
    ">- **`'RegionName='`** <br>\n",
    ">- **`'lon_min='`** <br>\n",
    ">- **`'lon_max='`** <br>\n",
    ">- **`'lat_min='`** <br>\n",
    ">- **`'lat_max='`** <br>\n"
   ]
  },
  {
   "cell_type": "code",
   "execution_count": 7,
   "id": "empty-arbor",
   "metadata": {},
   "outputs": [],
   "source": [
    "\n",
    "#RegionName='Iberia'\n",
    "#lon_min=-8.\n",
    "#lon_max=3\n",
    "#lat_min=35.\n",
    "#lat_max=45.\n",
    "\n",
    "RegionName='AFR'\n",
    "lon_min=19.\n",
    "lat_min=-12\n",
    "lon_max=63.\n",
    "lat_max=15.5\n",
    "\n"
   ]
  },
  {
   "cell_type": "code",
   "execution_count": 8,
   "id": "fatty-economy",
   "metadata": {},
   "outputs": [],
   "source": [
    "bbox=(lon_min,lat_min,lon_max,lat_max)\n",
    "xsize=int((lon_max-lon_min)+1)*50\n",
    "ysize=int((lat_max-lat_min)+1)*50\n",
    "size=(xsize,ysize)\n"
   ]
  },
  {
   "cell_type": "code",
   "execution_count": 9,
   "id": "genetic-depth",
   "metadata": {},
   "outputs": [],
   "source": [
    "from owslib.wms import WebMapService \n",
    "service_url = 'https://view.eumetsat.int/geoserver/ows?'\n",
    "wms = WebMapService(service_url)\n"
   ]
  },
  {
   "cell_type": "code",
   "execution_count": 10,
   "id": "broadband-billy",
   "metadata": {},
   "outputs": [],
   "source": [
    "def get_wms_image (dt,wms_layer,bbox,size):\n",
    "    \n",
    "    timewindow=(dt+timedelta(hours=-0.25)).strftime(\"%Y-%m-%dT%H:%M:%SZ\")+\"/\"+(dt.strftime(\"%Y-%m-%dT%H:%M:%SZ\")) \n",
    "    #print(timewindow)\n",
    "        # setup a 15 min window - will return teh last time\n",
    "    payload = {\n",
    "        'layers' : [wms_layer],\n",
    "        'styles' : '',\n",
    "        'format' : 'image/jpeg', # format \n",
    "        'crs'    : 'EPSG:4326', # projection\n",
    "        'bbox'   : bbox, # BBOX and Size needs to match\n",
    "        'size'   : size,\n",
    "        'time' : timewindow\n",
    "    }\n",
    "\n",
    "    wms = WebMapService(service_url)\n",
    "    img_response = wms.getmap(**payload)\n",
    "    img=img_response.read()\n",
    "    \n",
    "    return img\n"
   ]
  },
  {
   "cell_type": "markdown",
   "id": "mathematical-adventure",
   "metadata": {},
   "source": [
    "\n",
    "<div class=\"alert alert-block alert-info\">\n",
    "<b>In the next cell you can select the date range.\n",
    "<br>\n",
    "    \n",
    ">- **`'YEAR='`** <br>\n",
    ">- **`'MONTH='`** <br>\n",
    ">- **`'DAY_INI='`** <br>\n",
    ">- **`'DAY_FIN='`** <br>\n",
    ">- **`'H_INI='`** <br>\n",
    ">- **`'H_FIN='`** <br>\n",
    ">- **`'MIN_INI='`** <br>\n",
    ">- **`'MIN_FIN='`** <br>\n",
    ">- **`'DELTA_MIN='`** <br></div>\n",
    "\n",
    "   "
   ]
  },
  {
   "cell_type": "code",
   "execution_count": 11,
   "id": "subject-croatia",
   "metadata": {},
   "outputs": [],
   "source": [
    "YEAR=2025\n",
    "MONTH=5\n",
    "DAY_INI=16\n",
    "DAY_FIN=17\n",
    "H_INI=12\n",
    "H_FIN=12\n",
    "M_INI=0\n",
    "M_FIN=30\n",
    "DELTA_MIN=10\n"
   ]
  },
  {
   "cell_type": "code",
   "execution_count": 12,
   "id": "surrounded-funds",
   "metadata": {},
   "outputs": [],
   "source": [
    "def datespan(startDate, endDate, delta=timedelta(days=1)):\n",
    "    currentDate = startDate\n",
    "    while currentDate < endDate:\n",
    "        yield currentDate\n",
    "        currentDate += delta"
   ]
  },
  {
   "cell_type": "code",
   "execution_count": null,
   "id": "acoustic-parker",
   "metadata": {},
   "outputs": [
    {
     "name": "stdout",
     "output_type": "stream",
     "text": [
      "2025-05-16 12:00:00\n",
      "2025-05-16 12:10:00\n",
      "2025-05-16 12:20:00\n",
      "2025-05-16 12:30:00\n",
      "2025-05-16 12:40:00\n",
      "2025-05-16 12:50:00\n",
      "2025-05-16 13:00:00\n",
      "2025-05-16 13:10:00\n",
      "2025-05-16 13:20:00\n",
      "2025-05-16 13:30:00\n",
      "2025-05-16 13:40:00\n",
      "2025-05-16 13:50:00\n",
      "2025-05-16 14:00:00\n",
      "2025-05-16 14:10:00\n",
      "2025-05-16 14:20:00\n",
      "2025-05-16 14:30:00\n",
      "2025-05-16 14:40:00\n",
      "2025-05-16 14:50:00\n",
      "2025-05-16 15:00:00\n",
      "2025-05-16 15:10:00\n",
      "2025-05-16 15:20:00\n",
      "2025-05-16 15:30:00\n",
      "2025-05-16 15:40:00\n",
      "2025-05-16 15:50:00\n",
      "2025-05-16 16:00:00\n",
      "2025-05-16 16:10:00\n",
      "2025-05-16 16:20:00\n",
      "2025-05-16 16:30:00\n",
      "2025-05-16 16:40:00\n",
      "2025-05-16 16:50:00\n",
      "2025-05-16 17:00:00\n",
      "2025-05-16 17:10:00\n",
      "2025-05-16 17:20:00\n",
      "2025-05-16 17:30:00\n",
      "2025-05-16 17:40:00\n",
      "2025-05-16 17:50:00\n",
      "2025-05-16 18:00:00\n",
      "2025-05-16 18:10:00\n",
      "2025-05-16 18:20:00\n",
      "2025-05-16 18:30:00\n",
      "2025-05-16 18:40:00\n",
      "2025-05-16 18:50:00\n",
      "2025-05-16 19:00:00\n",
      "2025-05-16 19:10:00\n",
      "2025-05-16 19:20:00\n",
      "2025-05-16 19:30:00\n",
      "2025-05-16 19:40:00\n",
      "2025-05-16 19:50:00\n",
      "2025-05-16 20:00:00\n",
      "2025-05-16 20:10:00\n",
      "2025-05-16 20:20:00\n",
      "2025-05-16 20:30:00\n",
      "2025-05-16 20:40:00\n",
      "2025-05-16 20:50:00\n",
      "2025-05-16 21:00:00\n",
      "2025-05-16 21:10:00\n",
      "2025-05-16 21:20:00\n",
      "2025-05-16 21:30:00\n",
      "2025-05-16 21:40:00\n",
      "2025-05-16 21:50:00\n",
      "2025-05-16 22:00:00\n",
      "2025-05-16 22:10:00\n",
      "2025-05-16 22:20:00\n",
      "2025-05-16 22:30:00\n",
      "2025-05-16 22:40:00\n",
      "2025-05-16 22:50:00\n"
     ]
    }
   ],
   "source": [
    "\n",
    "for timestamp in datespan(datetime(YEAR, MONTH, DAY_INI, H_INI, M_INI), \n",
    "                          datetime(YEAR, MONTH, DAY_FIN, H_FIN, M_FIN), \n",
    "                          delta=timedelta(minutes=DELTA_MIN)):\n",
    "    print(timestamp)\n",
    " \n",
    "    filename=timestamp.strftime(\"%Y-%m-%dT%H.%M.00Z\")+\".jpg\"\n",
    "    \n",
    "    img=get_wms_image (timestamp,target_layer,bbox,size)\n",
    "    with open(output_folder+filename, 'wb') as f:\n",
    "        f.write(img)\n",
    "    f.close()"
   ]
  },
  {
   "cell_type": "markdown",
   "id": "casual-montgomery",
   "metadata": {},
   "source": [
    "<hr>"
   ]
  },
  {
   "cell_type": "markdown",
   "id": "retired-authorization",
   "metadata": {},
   "source": [
    "\n",
    "    \n",
    "<p style=\"text-align:right;\"> <a href='https://training.eumetsat.int'>EUMETSAT Training</a> | <a href='mailto:training@eumetsat.int'>Contact the training team</a></p>"
   ]
  }
 ],
 "metadata": {
  "kernelspec": {
   "display_name": "Python 3 (ipykernel)",
   "language": "python",
   "name": "python3"
  },
  "language_info": {
   "codemirror_mode": {
    "name": "ipython",
    "version": 3
   },
   "file_extension": ".py",
   "mimetype": "text/x-python",
   "name": "python",
   "nbconvert_exporter": "python",
   "pygments_lexer": "ipython3",
   "version": "3.11.11"
  }
 },
 "nbformat": 4,
 "nbformat_minor": 5
}
