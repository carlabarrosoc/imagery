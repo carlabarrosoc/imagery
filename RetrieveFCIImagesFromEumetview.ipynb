{
 "cells": [
  {
   "cell_type": "markdown",
   "id": "conscious-blond",
   "metadata": {},
   "source": [
    "<img src='../logos/EUMETSAT_Logo_WhiteonBlue.png' alt='logo EUMETSAT' align='center' width='30%'></img>"
   ]
  },
  {
   "cell_type": "markdown",
   "id": "educated-packaging",
   "metadata": {},
   "source": [
    "# \n",
    "# Retrieve images from EUMETView "
   ]
  },
  {
   "cell_type": "markdown",
   "id": "conditional-pollution",
   "metadata": {},
   "source": [
    "**[EUMETView](https://view.eumetsat.int/productviewer?v=default)** is an Online Map Service that provides visualisations of EUMETSAT product through a customisable web user interface and an enhanced set of Open Geospatial Consortium (OGC) standard API. EUMETView makes it possible to create and save maps using the user interface, or integrates with user's personal service, via the API.\n"
   ]
  },
  {
   "cell_type": "markdown",
   "id": "incomplete-prophet",
   "metadata": {},
   "source": [
    "\n",
    "<div class=\"alert alert-block alert-info\">\n",
    "<b>NOTE:</b> To successfully run this notebook please follow the instructions, namely those within the blue cells like this one, so that you know what you need to change. For the other cells you should only hit the play button, to run them.</div>"
   ]
  },
  {
   "cell_type": "markdown",
   "id": "spanish-peripheral",
   "metadata": {},
   "source": [
    "<hr>"
   ]
  },
  {
   "cell_type": "markdown",
   "id": "recent-danish",
   "metadata": {},
   "source": [
    "#### Install and load required libraries"
   ]
  },
  {
   "cell_type": "code",
   "execution_count": null,
   "id": "divine-evidence",
   "metadata": {},
   "outputs": [],
   "source": [
    "!pip install owslib"
   ]
  },
  {
   "cell_type": "code",
   "execution_count": null,
   "id": "northern-opera",
   "metadata": {},
   "outputs": [],
   "source": [
    "import owslib\n",
    "from datetime import datetime, timedelta\n",
    "import glob#\n",
    "import zipfile"
   ]
  },
  {
   "cell_type": "markdown",
   "id": "comprehensive-language",
   "metadata": {},
   "source": [
    "<div class=\"alert alert-block alert-info\">\n",
    "<b>Define the outupt folder (where the downloaded images will be saved).</div>"
   ]
  },
  {
   "cell_type": "code",
   "execution_count": null,
   "id": "hundred-christian",
   "metadata": {},
   "outputs": [],
   "source": [
    "Service='mtg_fd'\n"
   ]
  },
  {
   "cell_type": "markdown",
   "id": "stable-overview",
   "metadata": {},
   "source": [
    "<div class=\"alert alert-block alert-info\">\n",
    "<b>Define one Product by uncommenting the correct line in the cell below.</div>"
   ]
  },
  {
   "cell_type": "code",
   "execution_count": null,
   "id": "acoustic-worker",
   "metadata": {},
   "outputs": [],
   "source": [
    "#product_name='rgb_truecolour'\n",
    "product_name='rgb_cloudphase'\n",
    "#product_name='rgb_dust'\n",
    "#product_name='rgb_geocolour'\n",
    "\n"
   ]
  },
  {
   "cell_type": "code",
   "execution_count": null,
   "id": "instant-language",
   "metadata": {},
   "outputs": [],
   "source": [
    "output_folder='EUMETVIEW_IMAGERY/'+product_name+'/'\n",
    "\n",
    "!mkdir $output_folder\n",
    "\n"
   ]
  },
  {
   "cell_type": "code",
   "execution_count": null,
   "id": "valid-singer",
   "metadata": {},
   "outputs": [],
   "source": [
    "target_layer = Service+':'+product_name+',backgrounds:ne_10m_coastline'\n"
   ]
  },
  {
   "cell_type": "markdown",
   "id": "unlike-pharmaceutical",
   "metadata": {},
   "source": [
    "#### Select a Geographical Area"
   ]
  },
  {
   "cell_type": "markdown",
   "id": "simplified-gabriel",
   "metadata": {},
   "source": [
    "\n",
    "<div class=\"alert alert-block alert-info\">\n",
    "<b>In the next cell you can change select your Area Of Interest by entering iths geographical limits. Please also give a name to your region by editing the variable RegionName.\n",
    "<br>\n",
    "    \n",
    ">- **`'RegionName='`** <br>\n",
    ">- **`'lon_min='`** <br>\n",
    ">- **`'lon_max='`** <br>\n",
    ">- **`'lat_min='`** <br>\n",
    ">- **`'lat_max='`** <br>\n"
   ]
  },
  {
   "cell_type": "code",
   "execution_count": null,
   "id": "empty-arbor",
   "metadata": {},
   "outputs": [],
   "source": [
    "\n",
    "#RegionName='Iberia'\n",
    "#lon_min=-8.\n",
    "#lon_max=3\n",
    "#lat_min=35.\n",
    "#lat_max=45.\n",
    "\n",
    "RegionName='AFR'\n",
    "lon_min=19.\n",
    "lat_min=-12\n",
    "lon_max=63.\n",
    "lat_max=15.5\n",
    "\n"
   ]
  },
  {
   "cell_type": "code",
   "execution_count": null,
   "id": "fatty-economy",
   "metadata": {},
   "outputs": [],
   "source": [
    "bbox=(lon_min,lat_min,lon_max,lat_max)\n",
    "xsize=int((lon_max-lon_min)+1)*50\n",
    "ysize=int((lat_max-lat_min)+1)*50\n",
    "size=(xsize,ysize)\n"
   ]
  },
  {
   "cell_type": "code",
   "execution_count": null,
   "id": "genetic-depth",
   "metadata": {},
   "outputs": [],
   "source": [
    "from owslib.wms import WebMapService \n",
    "service_url = 'https://view.eumetsat.int/geoserver/ows?'\n",
    "wms = WebMapService(service_url)\n"
   ]
  },
  {
   "cell_type": "code",
   "execution_count": null,
   "id": "broadband-billy",
   "metadata": {},
   "outputs": [],
   "source": [
    "def get_wms_image (dt,wms_layer,bbox,size):\n",
    "    \n",
    "    timewindow=(dt+timedelta(hours=-0.25)).strftime(\"%Y-%m-%dT%H:%M:%SZ\")+\"/\"+(dt.strftime(\"%Y-%m-%dT%H:%M:%SZ\")) \n",
    "    #print(timewindow)\n",
    "        # setup a 15 min window - will return teh last time\n",
    "    payload = {\n",
    "        'layers' : [wms_layer],\n",
    "        'styles' : '',\n",
    "        'format' : 'image/jpeg', # format \n",
    "        'crs'    : 'EPSG:4326', # projection\n",
    "        'bbox'   : bbox, # BBOX and Size needs to match\n",
    "        'size'   : size,\n",
    "        'time' : timewindow\n",
    "    }\n",
    "\n",
    "    wms = WebMapService(service_url)\n",
    "    img_response = wms.getmap(**payload)\n",
    "    img=img_response.read()\n",
    "    \n",
    "    return img\n"
   ]
  },
  {
   "cell_type": "markdown",
   "id": "mathematical-adventure",
   "metadata": {},
   "source": [
    "\n",
    "<div class=\"alert alert-block alert-info\">\n",
    "<b>In the next cell you can select the date range.\n",
    "<br>\n",
    "    \n",
    ">- **`'YEAR='`** <br>\n",
    ">- **`'MONTH='`** <br>\n",
    ">- **`'DAY_INI='`** <br>\n",
    ">- **`'DAY_FIN='`** <br>\n",
    ">- **`'H_INI='`** <br>\n",
    ">- **`'H_FIN='`** <br>\n",
    ">- **`'MIN_INI='`** <br>\n",
    ">- **`'MIN_FIN='`** <br>\n",
    ">- **`'DELTA_MIN='`** <br></div>\n",
    "\n",
    "   "
   ]
  },
  {
   "cell_type": "code",
   "execution_count": null,
   "id": "subject-croatia",
   "metadata": {},
   "outputs": [],
   "source": [
    "YEAR=2025\n",
    "MONTH=5\n",
    "DAY_INI=16\n",
    "DAY_FIN=17\n",
    "H_INI=12\n",
    "H_FIN=12\n",
    "M_INI=0\n",
    "M_FIN=30\n",
    "DELTA_MIN=10\n"
   ]
  },
  {
   "cell_type": "code",
   "execution_count": null,
   "id": "surrounded-funds",
   "metadata": {},
   "outputs": [],
   "source": [
    "def datespan(startDate, endDate, delta=timedelta(days=1)):\n",
    "    currentDate = startDate\n",
    "    while currentDate < endDate:\n",
    "        yield currentDate\n",
    "        currentDate += delta"
   ]
  },
  {
   "cell_type": "code",
   "execution_count": null,
   "id": "acoustic-parker",
   "metadata": {},
   "outputs": [],
   "source": [
    "print(output_folder)\n",
    "for timestamp in datespan(datetime(YEAR, MONTH, DAY_INI, H_INI, M_INI), \n",
    "                          datetime(YEAR, MONTH, DAY_FIN, H_FIN, M_FIN), \n",
    "                          delta=timedelta(minutes=DELTA_MIN)):\n",
    "    print(timestamp)\n",
    " \n",
    "    filename=timestamp.strftime(\"%Y-%m-%dT%H.%M.00Z\")+\".jpg\"\n",
    "    \n",
    "    img=get_wms_image (timestamp,target_layer,bbox,size)\n",
    "    with open(output_folder+filename, 'wb') as f:\n",
    "        f.write(img)\n",
    "    f.close()"
   ]
  },
  {
   "cell_type": "markdown",
   "id": "casual-montgomery",
   "metadata": {},
   "source": [
    "<hr>"
   ]
  },
  {
   "cell_type": "markdown",
   "id": "retired-authorization",
   "metadata": {},
   "source": [
    "\n",
    "    \n",
    "<p style=\"text-align:right;\"> <a href='https://training.eumetsat.int'>EUMETSAT Training</a> | <a href='mailto:training@eumetsat.int'>Contact the training team</a></p>"
   ]
  }
 ],
 "metadata": {
  "kernelspec": {
   "display_name": "Python 3 (ipykernel)",
   "language": "python",
   "name": "python3"
  },
  "language_info": {
   "codemirror_mode": {
    "name": "ipython",
    "version": 3
   },
   "file_extension": ".py",
   "mimetype": "text/x-python",
   "name": "python",
   "nbconvert_exporter": "python",
   "pygments_lexer": "ipython3",
   "version": "3.11.11"
  }
 },
 "nbformat": 4,
 "nbformat_minor": 5
}
